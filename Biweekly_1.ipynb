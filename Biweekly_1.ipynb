{
  "nbformat": 4,
  "nbformat_minor": 0,
  "metadata": {
    "colab": {
      "name": "Biweekly 1",
      "provenance": []
    },
    "kernelspec": {
      "name": "ir",
      "display_name": "R"
    }
  },
  "cells": [
    {
      "cell_type": "code",
      "metadata": {
        "id": "8Xpy_MEM5Bn_",
        "colab_type": "code",
        "colab": {}
      },
      "source": [
        "view(starwars)\n",
        "sw <- starwars %>% \n",
        "  select(name, height, mass, gender) %>% \n",
        "  rename(weight = mass) %>% \n",
        "  na.omit() %>% \n",
        "  mutate(height = height / 100) %>% \n",
        "  filter(gender == \"male\" | \n",
        "           gender == \"female\") %>% \n",
        "  filter(gender %in% c(\"male\", \"female\")) %>% \n",
        "  mutate(gender = recode(gender, mase = \"m\", female = \"f\")) %>% \n",
        "  mutate(size = height > 1.7 & weight > 75, size = if_else(size == TRUE, \"big\", \"small\"))\n"
      ],
      "execution_count": null,
      "outputs": []
    },
    {
      "cell_type": "markdown",
      "metadata": {
        "id": "bnOCljdi5C_d",
        "colab_type": "text"
      },
      "source": [
        "This is looking at the data set of the starwars characters wich shows the name, height, mass, hair color, skin color, eye color, birth year, gender and a few other details. I only wanted to look at the height, weight, name and gender of the characters, so the 3rd line selects only that. The weight was changed from \"weight\" to \"mass\" and the height was converted from cm to m. The column of \"male\" and \"female\" was simplified to \"m\" or \"f\". In the character list there was also droids and alien species so those had to be omited from the new table. Finaly the characters where classified as \"big\" or \"small\" depending on their mass and height; if they were more than 75 kg or taller than 1.7 m then they were considered big.\n",
        "\n",
        "I encountered some issues when trying to use the pipe oprtator and in retrieving the data from starwars because rstudio kept saying that %>% wasnt a valid function and that view(starwars) couldnt be found. I learned this from a youtube video https://www.youtube.com/watch?v=KQuPsYHG1TI&list=PLtL57Fdbwb_Chn-dNR0qBjH3esKS2MXY3&index=8&ab_channel=RProgramming101 which explained how to mutate, select, filter and creating new variables"
      ]
    },
    {
      "cell_type": "code",
      "metadata": {
        "id": "EnBpL0x-5uvp",
        "colab_type": "code",
        "colab": {}
      },
      "source": [
        ""
      ],
      "execution_count": null,
      "outputs": []
    }
  ]
}